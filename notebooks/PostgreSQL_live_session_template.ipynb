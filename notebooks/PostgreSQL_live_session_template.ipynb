{
  "nbformat": 4,
  "nbformat_minor": 0,
  "metadata": {
    "colab": {
      "name": "PostgreSQL_live_session_template.ipynb",
      "provenance": [],
      "authorship_tag": "ABX9TyOTlOspmI+1cXoCTzEc5Z6/",
      "include_colab_link": true
    },
    "kernelspec": {
      "name": "python3",
      "display_name": "Python 3"
    }
  },
  "cells": [
    {
      "cell_type": "markdown",
      "metadata": {
        "id": "view-in-github",
        "colab_type": "text"
      },
      "source": [
        "<a href=\"https://colab.research.google.com/github/datacamp/SQL-live-training-template/blob/master/notebooks/PostgreSQL_live_session_template.ipynb\" target=\"_parent\"><img src=\"https://colab.research.google.com/assets/colab-badge.svg\" alt=\"Open In Colab\"/></a>"
      ]
    },
    {
      "cell_type": "markdown",
      "metadata": {
        "id": "tnjoHnXBnlof",
        "colab_type": "text"
      },
      "source": [
        "<p align=\"center\">\n",
        "<img src=\"https://github.com/datacamp/python-live-training-template/blob/master/assets/datacamp.svg?raw=True\" alt = \"DataCamp icon\" width=\"50%\">\n",
        "</p>\n",
        "<br><br>\n",
        "\n",
        "## **PostgreSQL Live Training Template**\n",
        "\n",
        "_Enter a brief description of your session, here's an example below:_\n",
        "\n",
        "Welcome to this hands-on training where we will immerse yourself in data analysis in SQL. You'll learn how to extract data, and analyze it using SQL.\n",
        "You will have the ability to:\n",
        "\n",
        "* Select mulitple columns in SQL.\n",
        "* Compute aggregations and summarize your data.\n",
        "* Join tables to get more insights.\n",
        "\n",
        "## **The Dataset**\n",
        "\n",
        "_Enter a brief description of your dataset and its columns, here's an example below:_\n",
        "\n",
        "\n",
        "The dataset to be used in this webinar is a CSV file named `actor.csv`, which contains data on actors:\n",
        "\n",
        "- `actor_id`: The unique identifier for an actor\n",
        "- `first_name`: Actor first name\n",
        "- `last_name`: Actor last name\n",
        "- `last_update`: Last showing"
      ]
    },
    {
      "cell_type": "markdown",
      "metadata": {
        "id": "agoSpqYunxZ1",
        "colab_type": "text"
      },
      "source": [
        "## **Setting up PostgreSQL**"
      ]
    },
    {
      "cell_type": "code",
      "metadata": {
        "id": "WZ-Rqu2yoCzR",
        "colab_type": "code",
        "colab": {}
      },
      "source": [
        "#@title **This block of code will install PosgreSQL**\n",
        "%%capture\n",
        "!wget -qO- https://www.postgresql.org/media/keys/ACCC4CF8.asc | apt-key add -\n",
        "!echo \"deb http://apt.postgresql.org/pub/repos/apt/ bionic-pgdg main\" >/etc/apt/sources.list.d/pgdg.list\n",
        "!apt -qq update\n",
        "!apt -yq install postgresql-12 postgresql-client-12\n",
        "!service postgresql start\n",
        "# make calling psql shorter\n",
        "!sudo -u postgres psql -c \"CREATE USER root WITH SUPERUSER\"  \n",
        "!psql postgres -c \"CREATE DATABASE root\"  # now just !psql -c \"...\"\n",
        "# load SQL extensions\n",
        "%load_ext sql\n",
        "%config SqlMagic.feedback=False \n",
        "%config SqlMagic.autopandas=True\n",
        "%sql postgresql+psycopg2://@/postgres"
      ],
      "execution_count": 0,
      "outputs": []
    },
    {
      "cell_type": "code",
      "metadata": {
        "id": "5spm-fLTn7oP",
        "colab_type": "code",
        "colab": {}
      },
      "source": [
        "#@title **This will download your data to local environment**\n",
        "!wget -q https://raw.githubusercontent.com/datacamp/SQL-live-training-template/master/data/actor.csv"
      ],
      "execution_count": 0,
      "outputs": []
    },
    {
      "cell_type": "code",
      "metadata": {
        "id": "4fiq0KKsokAX",
        "colab_type": "code",
        "outputId": "156e2b57-2b0d-427c-ee8b-d318842c5547",
        "colab": {
          "base_uri": "https://localhost:8080/",
          "height": 49
        }
      },
      "source": [
        "#@title **This will create your table**\n",
        "%%sql\n",
        "-- Make sure to amend you table name, column names and types\n",
        "DROP TABLE IF EXISTS actor;\n",
        "CREATE TABLE actor(\n",
        " actor_id int primary key,\n",
        " first_name varchar(50),\n",
        " last_name varchar(50),\n",
        " last_update timestamp\n",
        ");\n",
        "COPY actor\n",
        "-- Make sure to point to correct file and delimiter \n",
        "FROM '/content/actor.csv' DELIMITER ',' CSV HEADER;"
      ],
      "execution_count": 0,
      "outputs": [
        {
          "output_type": "stream",
          "text": [
            " * postgresql+psycopg2://@/postgres\n"
          ],
          "name": "stdout"
        },
        {
          "output_type": "execute_result",
          "data": {
            "text/html": [
              "<div>\n",
              "<style scoped>\n",
              "    .dataframe tbody tr th:only-of-type {\n",
              "        vertical-align: middle;\n",
              "    }\n",
              "\n",
              "    .dataframe tbody tr th {\n",
              "        vertical-align: top;\n",
              "    }\n",
              "\n",
              "    .dataframe thead th {\n",
              "        text-align: right;\n",
              "    }\n",
              "</style>\n",
              "<table border=\"1\" class=\"dataframe\">\n",
              "  <thead>\n",
              "    <tr style=\"text-align: right;\">\n",
              "      <th></th>\n",
              "    </tr>\n",
              "  </thead>\n",
              "  <tbody>\n",
              "  </tbody>\n",
              "</table>\n",
              "</div>"
            ],
            "text/plain": [
              "Empty DataFrame\n",
              "Columns: []\n",
              "Index: []"
            ]
          },
          "metadata": {
            "tags": []
          },
          "execution_count": 5
        }
      ]
    },
    {
      "cell_type": "code",
      "metadata": {
        "id": "KpFHkiwIo8KW",
        "colab_type": "code",
        "outputId": "a95c3210-9263-4e5a-cda6-e141525d630f",
        "colab": {
          "base_uri": "https://localhost:8080/",
          "height": 376
        }
      },
      "source": [
        "%%sql\n",
        "-- SELECT first 10 rows\n",
        "\n",
        "SELECT * \n",
        "FROM actor \n",
        "LIMIT 10;"
      ],
      "execution_count": 0,
      "outputs": [
        {
          "output_type": "stream",
          "text": [
            " * postgresql+psycopg2://@/postgres\n"
          ],
          "name": "stdout"
        },
        {
          "output_type": "execute_result",
          "data": {
            "text/html": [
              "<div>\n",
              "<style scoped>\n",
              "    .dataframe tbody tr th:only-of-type {\n",
              "        vertical-align: middle;\n",
              "    }\n",
              "\n",
              "    .dataframe tbody tr th {\n",
              "        vertical-align: top;\n",
              "    }\n",
              "\n",
              "    .dataframe thead th {\n",
              "        text-align: right;\n",
              "    }\n",
              "</style>\n",
              "<table border=\"1\" class=\"dataframe\">\n",
              "  <thead>\n",
              "    <tr style=\"text-align: right;\">\n",
              "      <th></th>\n",
              "      <th>actor_id</th>\n",
              "      <th>first_name</th>\n",
              "      <th>last_name</th>\n",
              "      <th>last_update</th>\n",
              "    </tr>\n",
              "  </thead>\n",
              "  <tbody>\n",
              "    <tr>\n",
              "      <th>0</th>\n",
              "      <td>1</td>\n",
              "      <td>Penelope</td>\n",
              "      <td>Guiness</td>\n",
              "      <td>2006-02-15 10:05:00</td>\n",
              "    </tr>\n",
              "    <tr>\n",
              "      <th>1</th>\n",
              "      <td>2</td>\n",
              "      <td>Nick</td>\n",
              "      <td>Wahlberg</td>\n",
              "      <td>2006-02-15 10:05:00</td>\n",
              "    </tr>\n",
              "    <tr>\n",
              "      <th>2</th>\n",
              "      <td>3</td>\n",
              "      <td>Ed</td>\n",
              "      <td>Chase</td>\n",
              "      <td>2006-02-15 10:05:00</td>\n",
              "    </tr>\n",
              "    <tr>\n",
              "      <th>3</th>\n",
              "      <td>4</td>\n",
              "      <td>Jennifer</td>\n",
              "      <td>Davis</td>\n",
              "      <td>2006-02-15 10:05:00</td>\n",
              "    </tr>\n",
              "    <tr>\n",
              "      <th>4</th>\n",
              "      <td>5</td>\n",
              "      <td>Johnny</td>\n",
              "      <td>Lollobrigida</td>\n",
              "      <td>2006-02-15 10:05:00</td>\n",
              "    </tr>\n",
              "    <tr>\n",
              "      <th>5</th>\n",
              "      <td>6</td>\n",
              "      <td>Bette</td>\n",
              "      <td>Nicholson</td>\n",
              "      <td>2006-02-15 10:05:00</td>\n",
              "    </tr>\n",
              "    <tr>\n",
              "      <th>6</th>\n",
              "      <td>7</td>\n",
              "      <td>Grace</td>\n",
              "      <td>Mostel</td>\n",
              "      <td>2006-02-15 10:05:00</td>\n",
              "    </tr>\n",
              "    <tr>\n",
              "      <th>7</th>\n",
              "      <td>8</td>\n",
              "      <td>Matthew</td>\n",
              "      <td>Johansson</td>\n",
              "      <td>2006-02-15 10:05:00</td>\n",
              "    </tr>\n",
              "    <tr>\n",
              "      <th>8</th>\n",
              "      <td>9</td>\n",
              "      <td>Joe</td>\n",
              "      <td>Swank</td>\n",
              "      <td>2006-02-15 10:05:00</td>\n",
              "    </tr>\n",
              "    <tr>\n",
              "      <th>9</th>\n",
              "      <td>10</td>\n",
              "      <td>Christian</td>\n",
              "      <td>Gable</td>\n",
              "      <td>2006-02-15 10:05:00</td>\n",
              "    </tr>\n",
              "  </tbody>\n",
              "</table>\n",
              "</div>"
            ],
            "text/plain": [
              "   actor_id first_name     last_name         last_update\n",
              "0         1   Penelope       Guiness 2006-02-15 10:05:00\n",
              "1         2       Nick      Wahlberg 2006-02-15 10:05:00\n",
              "2         3         Ed         Chase 2006-02-15 10:05:00\n",
              "3         4   Jennifer         Davis 2006-02-15 10:05:00\n",
              "4         5     Johnny  Lollobrigida 2006-02-15 10:05:00\n",
              "5         6      Bette     Nicholson 2006-02-15 10:05:00\n",
              "6         7      Grace        Mostel 2006-02-15 10:05:00\n",
              "7         8    Matthew     Johansson 2006-02-15 10:05:00\n",
              "8         9        Joe         Swank 2006-02-15 10:05:00\n",
              "9        10  Christian         Gable 2006-02-15 10:05:00"
            ]
          },
          "metadata": {
            "tags": []
          },
          "execution_count": 9
        }
      ]
    },
    {
      "cell_type": "markdown",
      "metadata": {
        "id": "a14e7ABlX7yc",
        "colab_type": "text"
      },
      "source": [
        "### **Examples on use of markdown**\n",
        "\n",
        "#### **Images**\n",
        "\n",
        "To add images, gifs, or other assets of that kind, make sure to use the HTML `<img>` function as in the following \n",
        "```\n",
        "<p align=\"\">\n",
        "<img src=\"\" alt = \"alt-text\" width=\"100%\">\n",
        "</p>\n",
        "<br><br>\n",
        "```\n",
        "\n",
        "- The `align` argument takes in `\"center\"`, `\"left\"`, `\"right\"`.\n",
        "- The `src` argument takes in the raw link of your image.\n",
        "- The `width` argument takes in a percentage, where `100%` is the original size of the image. \n",
        "\n",
        "\n",
        "#### **Formulas**\n",
        "\n",
        "To use formulas, feel free to use Latex Notation as such:\n",
        "\n",
        "$y = ax + b$\n",
        "\n",
        "You can even use color schemes like in this example, where coefficients are colored in red\n",
        "\n",
        "$y = \\color{red}a x + \\color{red}b$\n",
        "\n",
        "#### **Changing font color and size**\n",
        "\n",
        "To change or highlight specific texts in a color, you can use the following\n",
        "\n",
        "```\n",
        "<font color=\"00AAFF\">**Example text**</font>\n",
        "```\n",
        "\n",
        "Where the results will look like <font color=\"00AAFF\">**Example text**</font>.\n",
        "\n",
        "- The `color` argument takes in a HEX code for your color. "
      ]
    }
  ]
}